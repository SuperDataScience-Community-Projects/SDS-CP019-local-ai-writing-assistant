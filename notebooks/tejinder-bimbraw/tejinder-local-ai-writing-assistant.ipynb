{
 "cells": [
  {
   "cell_type": "code",
   "execution_count": 3,
   "metadata": {},
   "outputs": [],
   "source": [
    "import ollama\n",
    "import gradio as gr\n",
    "\n",
    "model=\"llama2\""
   ]
  },
  {
   "cell_type": "code",
   "execution_count": null,
   "metadata": {},
   "outputs": [],
   "source": [
    "# Chat function for Gradio using ollama\n",
    "#Inputs that are a list\n",
    "\n",
    "Hashtags= [\"Include Hashtags\", \"Donot include hashtags\"]\n",
    "emojis = [\"Include emojis\", \"Donot include emojis\"]\n",
    "def post_inputs(link, picture, Hashtags,emojis):\n",
    "    user_prompt = f\"Input any link that you like to include in the post: {link}\\n\"\n",
    "    user_prompt += f\"Input Picture that you like to include in the post: {picture}.\\n\"\n",
    "    user_prompt += f\"Do you want Hashtags in your post?: {Hashtags}.\\n\"\n",
    "    user_prompt += f\"Do you want to include Emojis in your post?: {emojis}.\"\n",
    "    user_prompt = user_prompt[:5_000] # Truncate if more than 5,000 characters\n",
    "    return user_prompt\n",
    "\n",
    "def chat_llama2(user_prompt, history):\n",
    "    system_message = \"You are a professional LinkedIn post creator\"\n",
    "\n",
    "\n",
    "   \n",
    "\n",
    "\n",
    "    messages = [\n",
    "        {\"role\":\"assistant\",\"content\":system_message},\n",
    "        {\"role\":\"user\",\"content\": user_prompt}\n",
    "    ]\n",
    "\n",
    "    result = ollama.chat(\n",
    "        model=\"llama2\",\n",
    "        messages=messages,\n",
    "        stream=True         # allows us to stream the resulting response instead of displaying the entire output at once\n",
    "        )\n",
    "    \n",
    "    # streaming the response from the model\n",
    "    # this prints out each output token form the model to have the resulting text displayed in real time\n",
    "    response = \"\"\n",
    "    for chunk in result:\n",
    "        if 'message' in chunk and 'content' in chunk['message']:\n",
    "            chunk_text = chunk['message']['content']\n",
    "            response += chunk_text or \"\"\n",
    "            yield response"
   ]
  },
  {
   "cell_type": "code",
   "execution_count": 23,
   "metadata": {},
   "outputs": [
    {
     "name": "stdout",
     "output_type": "stream",
     "text": [
      "* Running on local URL:  http://127.0.0.1:7875\n",
      "\n",
      "To create a public link, set `share=True` in `launch()`.\n"
     ]
    },
    {
     "data": {
      "text/html": [
       "<div><iframe src=\"http://127.0.0.1:7875/\" width=\"100%\" height=\"500\" allow=\"autoplay; camera; microphone; clipboard-read; clipboard-write;\" frameborder=\"0\" allowfullscreen></iframe></div>"
      ],
      "text/plain": [
       "<IPython.core.display.HTML object>"
      ]
     },
     "metadata": {},
     "output_type": "display_data"
    },
    {
     "data": {
      "text/plain": []
     },
     "execution_count": 23,
     "metadata": {},
     "output_type": "execute_result"
    }
   ],
   "source": [
    "import ollama\n",
    "import gradio as gr\n",
    "import os\n",
    "\n",
    "# Chat function for generating LinkedIn posts\n",
    "def chat_llama2(prompt, files):\n",
    "    system_message = \"You are a professional LinkedIn post creator. Create a professional LinkedIn post based on the user's inputs.\"\n",
    "\n",
    "    # Prepare the input prompt, including file names if provided\n",
    "    file_info = \"\"\n",
    "    images = []  # Collect image file paths to display in the output\n",
    "    if files:\n",
    "        for file in files:\n",
    "            file_info += f\"File uploaded: {file.name}\\n\"\n",
    "            # Check if the file is an image\n",
    "            if file.name.lower().endswith((\".png\", \".jpg\", \".jpeg\", \".gif\")):\n",
    "                # Save the image to a temporary folder for display\n",
    "                file_path = os.path.join(\"temp_images\", file.name)\n",
    "                os.makedirs(\"temp_images\", exist_ok=True)  # Ensure the directory exists\n",
    "                with open(file_path, \"wb\") as f:\n",
    "                    f.write(file.encode(\"latin1\"))  # Convert the string to bytes before writing\n",
    "                images.append(file_path)\n",
    "\n",
    "    user_prompt = f\"{prompt}\\n\\n{file_info}\"\n",
    "\n",
    "    # Initialize the conversation history\n",
    "    history = [\n",
    "        {\"role\": \"assistant\", \"content\": system_message},\n",
    "        {\"role\": \"user\", \"content\": user_prompt}\n",
    "    ]\n",
    "\n",
    "    # Add uploaded images to the conversation history for display\n",
    "    for image_path in images:\n",
    "        history.append({\"role\": \"user\", \"content\": f'<img src=\"{image_path}\" alt=\"Uploaded Image\" style=\"max-width: 300px;\">'})\n",
    "\n",
    "    # Call the Ollama API\n",
    "    result = ollama.chat(\n",
    "        model=\"llama2\",\n",
    "        messages=history,\n",
    "        stream=True  # Stream the response\n",
    "    )\n",
    "\n",
    "    # Stream the response and update the history\n",
    "    for chunk in result:\n",
    "        if \"message\" in chunk and \"content\" in chunk[\"message\"]:\n",
    "            chunk_text = chunk[\"message\"][\"content\"]\n",
    "            if history[-1][\"role\"] == \"assistant\":\n",
    "                # Append to the last assistant message\n",
    "                history[-1][\"content\"] += chunk_text\n",
    "            else:\n",
    "                # Create a new assistant message\n",
    "                history.append({\"role\": \"assistant\", \"content\": chunk_text})\n",
    "            yield history  # Yield the updated history\n",
    "\n",
    "# Gradio interface\n",
    "with gr.Blocks() as demo:\n",
    "    gr.Markdown(\"# LinkedIn Post Generator\")\n",
    "    gr.Markdown(\"Enter the topic and optionally upload files to generate a professional LinkedIn post.\")\n",
    "\n",
    "    chatbot = gr.Chatbot(elem_id=\"chatbot\", height=400, type=\"messages\")\n",
    "\n",
    "    with gr.Row():\n",
    "        text_input = gr.Textbox(\n",
    "            placeholder=\"Type the topic for your LinkedIn post here...\",\n",
    "            label=\"Post Topic\",\n",
    "            interactive=True\n",
    "        )\n",
    "        file_input = gr.File(\n",
    "            file_types=[\"image\", \"application/pdf\", \"text\"],\n",
    "            label=\"Upload Files (Optional)\",\n",
    "            file_count=\"multiple\"\n",
    "        )\n",
    "\n",
    "    submit_button = gr.Button(\"Generate Post\")\n",
    "\n",
    "    # Bind inputs and outputs\n",
    "    submit_button.click(\n",
    "        fn=chat_llama2,\n",
    "        inputs=[text_input, file_input],\n",
    "        outputs=chatbot\n",
    "    )\n",
    "\n",
    "# Launch the Gradio app\n",
    "demo.launch()\n"
   ]
  }
 ],
 "metadata": {
  "kernelspec": {
   "display_name": "base",
   "language": "python",
   "name": "python3"
  },
  "language_info": {
   "codemirror_mode": {
    "name": "ipython",
    "version": 3
   },
   "file_extension": ".py",
   "mimetype": "text/x-python",
   "name": "python",
   "nbconvert_exporter": "python",
   "pygments_lexer": "ipython3",
   "version": "3.12.7"
  }
 },
 "nbformat": 4,
 "nbformat_minor": 2
}
