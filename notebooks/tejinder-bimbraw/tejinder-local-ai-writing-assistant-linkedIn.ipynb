{
 "cells": [
  {
   "cell_type": "markdown",
   "metadata": {},
   "source": [
    "# Define Ollama Chat function for LinekdIn Post"
   ]
  },
  {
   "cell_type": "code",
   "execution_count": 12,
   "metadata": {},
   "outputs": [],
   "source": [
    "# Chat function for Gradio using ollama\n",
    "\n",
    "import ollama\n",
    "\n",
    "\n",
    "def chat_llama2(prompt, history):\n",
    "    system_message = \"You are a professional LinkedIn post creator\"\n",
    "    \n",
    "    messages = [\n",
    "        {\"role\":\"assistant\",\"content\":system_message},\n",
    "        {\"role\":\"user\",\"content\":prompt}\n",
    "    ]\n",
    "\n",
    "    result = ollama.chat(\n",
    "        model=\"llama2\",\n",
    "        messages=messages,\n",
    "        stream=True         # allows us to stream the resulting response instead of displaying the entire output at once\n",
    "        )\n",
    "    \n",
    "    # streaming the response from the model\n",
    "    # this prints out each output token form the model to have the resulting text displayed in real time\n",
    "    response = \"\"\n",
    "    for chunk in result:\n",
    "        if 'message' in chunk and 'content' in chunk['message']:\n",
    "            chunk_text = chunk['message']['content']\n",
    "            response += chunk_text or \"\"\n",
    "            yield response"
   ]
  },
  {
   "cell_type": "markdown",
   "metadata": {},
   "source": [
    "#  Gradio Interface"
   ]
  },
  {
   "cell_type": "code",
   "execution_count": 13,
   "metadata": {},
   "outputs": [
    {
     "name": "stderr",
     "output_type": "stream",
     "text": [
      "c:\\Users\\tejin\\anaconda3\\Lib\\site-packages\\gradio\\components\\chatbot.py:242: UserWarning: You have not specified a value for the `type` parameter. Defaulting to the 'tuples' format for chatbot messages, but this is deprecated and will be removed in a future version of Gradio. Please set type='messages' instead, which uses openai-style dictionaries with 'role' and 'content' keys.\n",
      "  warnings.warn(\n",
      "c:\\Users\\tejin\\anaconda3\\Lib\\site-packages\\gradio\\blocks.py:1049: UserWarning: Cannot load dark. Caught Exception: 404 Client Error: Not Found for url: https://huggingface.co/api/spaces/dark (Request ID: Root=1-678346d8-20f3582d009e890a45a1a240;8778262a-ef62-44a4-a68f-6a95c45e886b)\n",
      "\n",
      "Sorry, we can't find the page you are looking for.\n",
      "  warnings.warn(f\"Cannot load {theme}. Caught Exception: {str(e)}\")\n",
      "c:\\Users\\tejin\\anaconda3\\Lib\\site-packages\\gradio\\chat_interface.py:222: UserWarning: The type of the gr.Chatbot does not match the type of the gr.ChatInterface.The type of the gr.ChatInterface, 'messages', will be used.\n",
      "  warnings.warn(\n"
     ]
    },
    {
     "name": "stdout",
     "output_type": "stream",
     "text": [
      "* Running on local URL:  http://127.0.0.1:7860\n",
      "\n",
      "To create a public link, set `share=True` in `launch()`.\n"
     ]
    },
    {
     "data": {
      "text/html": [
       "<div><iframe src=\"http://127.0.0.1:7860/\" width=\"100%\" height=\"500\" allow=\"autoplay; camera; microphone; clipboard-read; clipboard-write;\" frameborder=\"0\" allowfullscreen></iframe></div>"
      ],
      "text/plain": [
       "<IPython.core.display.HTML object>"
      ]
     },
     "metadata": {},
     "output_type": "display_data"
    },
    {
     "data": {
      "text/plain": []
     },
     "execution_count": 13,
     "metadata": {},
     "output_type": "execute_result"
    }
   ],
   "source": [
    "import gradio as gr\n",
    "gr.ChatInterface(\n",
    "    fn=chat_llama2 ,\n",
    "    type=\"messages\",\n",
    "    chatbot=gr.Chatbot(height=500),\n",
    "    textbox=gr.Textbox(placeholder=\"Type Question Here\", container=True, scale=3),\n",
    "    title=\"LinkedIn Post Creator\",\n",
    "    description=\"What topic would you like to create the post about\",\n",
    "    theme=\"dark\",\n",
    "    examples=[\"Latest project that your team delivered\", \"A new Learning and Development course you created\", \"Your personal achievement\"]\n",
    "    # cache_examples=True\n",
    "    ).launch()"
   ]
  }
 ],
 "metadata": {
  "kernelspec": {
   "display_name": "base",
   "language": "python",
   "name": "python3"
  },
  "language_info": {
   "codemirror_mode": {
    "name": "ipython",
    "version": 3
   },
   "file_extension": ".py",
   "mimetype": "text/x-python",
   "name": "python",
   "nbconvert_exporter": "python",
   "pygments_lexer": "ipython3",
   "version": "3.12.7"
  }
 },
 "nbformat": 4,
 "nbformat_minor": 2
}
